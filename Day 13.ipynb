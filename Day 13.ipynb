{
 "cells": [
  {
   "cell_type": "code",
   "execution_count": 67,
   "id": "a3914b8f",
   "metadata": {},
   "outputs": [],
   "source": [
    "import collections\n",
    "import pandas as pd\n",
    "import functools\n",
    "from functools import lru_cache\n",
    "import sympy\n",
    "import numpy as np\n",
    "import copy\n",
    "import itertools\n",
    "import re\n",
    "import math\n",
    "from sympy import *"
   ]
  },
  {
   "cell_type": "code",
   "execution_count": 82,
   "id": "4a3c57ce",
   "metadata": {},
   "outputs": [],
   "source": [
    "with open('../inputs/input13.txt', 'r') as f:\n",
    "    lines = f.readlines()\n",
    "n = len(lines)\n",
    "for i in range(n):\n",
    "    lines[i] = lines[i].strip().replace(\", \", \"+\").replace(\"=\",\"+\").split(\"+\")\n",
    "m = len(lines[0])"
   ]
  },
  {
   "cell_type": "code",
   "execution_count": 83,
   "id": "79d17b28",
   "metadata": {},
   "outputs": [],
   "source": [
    "class game:\n",
    "    def __init__(self, ax, ay, bx, by, px, py):\n",
    "        self.ax = ax\n",
    "        self.ay = ay\n",
    "        self.bx = bx\n",
    "        self.by = by\n",
    "        self.px = px\n",
    "        self.py = py"
   ]
  },
  {
   "cell_type": "code",
   "execution_count": 84,
   "id": "f41dd127",
   "metadata": {},
   "outputs": [],
   "source": [
    "games = []\n",
    "for i in range(n):\n",
    "    if i%4==0:\n",
    "        games.append(game(int(lines[i][1]), int(lines[i][3]), int(lines[i+1][1]), int(lines[i+1][3]), int(lines[i+2][1]), int(lines[i+2][3])))"
   ]
  },
  {
   "cell_type": "code",
   "execution_count": 85,
   "id": "4fc15e1a",
   "metadata": {},
   "outputs": [],
   "source": [
    "#Attempt 1 doesn't work\n",
    "\n",
    "def solve(game):\n",
    "    Q = collections.deque()\n",
    "    #Tuple meaning: x coord, y coord, a presses, b presses\n",
    "    Q.append((0,0,0,0))\n",
    "    while len(Q)>0:\n",
    "        current = Q.popleft()\n",
    "        print(current)\n",
    "        if current[0] == game.px and current[1] == game.py:\n",
    "            return (current[2], current[3])\n",
    "        if current[2]>100 or current[3]>100:\n",
    "            continue\n",
    "        if current[0]>game.px or current[1]>game.py:\n",
    "            continue\n",
    "        Q.append((current[0]+game.ax, current[1]+game.ay, current[2]+1, current[3]))\n",
    "        Q.append((current[0]+game.bx, current[1]+game.by, current[2], current[3]+1))\n",
    "    return (0,0)"
   ]
  },
  {
   "cell_type": "code",
   "execution_count": 86,
   "id": "afaf7a64",
   "metadata": {},
   "outputs": [],
   "source": [
    "def solve2(game):\n",
    "    #i represents flips of a\n",
    "    combos = []\n",
    "    for i in range(100):\n",
    "        if (game.px-i*game.ax)%game.bx==0 and (game.py-i*game.ay)%game.by==0:\n",
    "            if (game.px-i*game.ax)//game.bx==(game.py-i*game.ay)//game.by:\n",
    "                combos.append((i,(game.px-i*game.ax)//game.bx))\n",
    "    #Strange: There is always only one way to get the prize?\n",
    "    if len(combos)>1:\n",
    "        print(combos)\n",
    "    tokens = []\n",
    "    for combo in combos:\n",
    "        #print(combo)\n",
    "        tokens.append(combo[0]*3+combo[1])\n",
    "    if len(tokens)==0:\n",
    "        return 0\n",
    "    return min(tokens)"
   ]
  },
  {
   "cell_type": "code",
   "execution_count": 87,
   "id": "3d7475f5",
   "metadata": {},
   "outputs": [
    {
     "data": {
      "text/plain": [
       "28138"
      ]
     },
     "execution_count": 87,
     "metadata": {},
     "output_type": "execute_result"
    }
   ],
   "source": [
    "ans = 0\n",
    "for game in games:\n",
    "    ans += solve2(game)\n",
    "ans"
   ]
  },
  {
   "cell_type": "code",
   "execution_count": 90,
   "id": "220df0b7",
   "metadata": {},
   "outputs": [],
   "source": [
    "class game:\n",
    "    def __init__(self, ax, ay, bx, by, px, py):\n",
    "        self.ax = ax\n",
    "        self.ay = ay\n",
    "        self.bx = bx\n",
    "        self.by = by\n",
    "        self.px = px\n",
    "        self.py = py\n",
    "#Part 2\n",
    "games2 = []\n",
    "for i in range(n):\n",
    "    if i%4==0:\n",
    "        games2.append(game(int(lines[i][1]), int(lines[i][3]), int(lines[i+1][1]), int(lines[i+1][3]), 10000000000000+int(lines[i+2][1]), 10000000000000+int(lines[i+2][3])))"
   ]
  },
  {
   "cell_type": "code",
   "execution_count": 93,
   "id": "128e6227",
   "metadata": {},
   "outputs": [],
   "source": [
    "def solve3(g):\n",
    "    x, y = symbols('x y')\n",
    "    eq1 = Eq(g.ax*x + g.bx*y ,g.px)\n",
    "    eq2 = Eq(g.ay*x +g.by* y ,g.py)\n",
    "    ans2 = sympy.solve((eq1,eq2), (x, y))\n",
    "    if isinstance(ans2[x], sympy.core.numbers.Integer) and isinstance(ans2[y], sympy.core.numbers.Integer):\n",
    "        return ans2[x]*3+ans2[y]\n",
    "    return 0"
   ]
  },
  {
   "cell_type": "code",
   "execution_count": 94,
   "id": "18c21cff",
   "metadata": {},
   "outputs": [
    {
     "data": {
      "text/latex": [
       "$\\displaystyle 108394825772874$"
      ],
      "text/plain": [
       "108394825772874"
      ]
     },
     "execution_count": 94,
     "metadata": {},
     "output_type": "execute_result"
    }
   ],
   "source": [
    "part2 = 0\n",
    "for g in games2:\n",
    "    part2 += solve3(g)\n",
    "part2"
   ]
  },
  {
   "cell_type": "code",
   "execution_count": null,
   "id": "d7c55e35",
   "metadata": {},
   "outputs": [],
   "source": []
  }
 ],
 "metadata": {
  "kernelspec": {
   "display_name": "Python 3 (ipykernel)",
   "language": "python",
   "name": "python3"
  },
  "language_info": {
   "codemirror_mode": {
    "name": "ipython",
    "version": 3
   },
   "file_extension": ".py",
   "mimetype": "text/x-python",
   "name": "python",
   "nbconvert_exporter": "python",
   "pygments_lexer": "ipython3",
   "version": "3.9.7"
  }
 },
 "nbformat": 4,
 "nbformat_minor": 5
}
