{
 "cells": [
  {
   "cell_type": "code",
   "execution_count": 49,
   "id": "a3914b8f",
   "metadata": {},
   "outputs": [],
   "source": [
    "import collections\n",
    "import pandas as pd\n",
    "import functools\n",
    "from functools import lru_cache\n",
    "import sympy\n",
    "import numpy as np\n",
    "import copy\n",
    "import itertools\n",
    "import math"
   ]
  },
  {
   "cell_type": "code",
   "execution_count": 65,
   "id": "4a3c57ce",
   "metadata": {},
   "outputs": [],
   "source": [
    "with open('../inputs/input8.txt', 'r') as f:\n",
    "    lines = f.readlines()\n",
    "coords = collections.defaultdict(list)\n",
    "n = len(lines)\n",
    "m = len(lines[0])-1\n",
    "for i in range(n):\n",
    "    lines[i] = lines[i].strip()\n",
    "    for j,c in enumerate(lines[i]):\n",
    "        if c!=\".\":\n",
    "            coords[c].append((i,j))"
   ]
  },
  {
   "cell_type": "code",
   "execution_count": null,
   "id": "79d17b28",
   "metadata": {},
   "outputs": [],
   "source": []
  },
  {
   "cell_type": "code",
   "execution_count": 48,
   "id": "f41dd127",
   "metadata": {},
   "outputs": [
    {
     "data": {
      "text/plain": [
       "390"
      ]
     },
     "execution_count": 48,
     "metadata": {},
     "output_type": "execute_result"
    }
   ],
   "source": [
    "antinodes = set()\n",
    "for char in coords:\n",
    "    for i in range(len(coords[char])):\n",
    "        for j in range(i+1,len(coords[char])):\n",
    "            delta_x = coords[char][j][0]-coords[char][i][0]\n",
    "            delta_y = coords[char][j][1]-coords[char][i][1]\n",
    "            antinode_1 = (coords[char][i][0]-delta_x, coords[char][i][1]-delta_y)\n",
    "            if antinode_1[0] >=0 and antinode_1[0] <n and antinode_1[1] >=0 and antinode_1[1] < m:\n",
    "                antinodes.add(antinode_1)\n",
    "            antinode_2 = (coords[char][j][0]+delta_x, coords[char][j][1]+delta_y)\n",
    "            if antinode_2[0] >=0 and antinode_2[0] <n and antinode_2[1] >=0 and antinode_2[1] < m:\n",
    "                antinodes.add(antinode_2)\n",
    "len(antinodes)"
   ]
  },
  {
   "cell_type": "code",
   "execution_count": 66,
   "id": "4fc15e1a",
   "metadata": {},
   "outputs": [
    {
     "data": {
      "text/plain": [
       "1246"
      ]
     },
     "execution_count": 66,
     "metadata": {},
     "output_type": "execute_result"
    }
   ],
   "source": [
    "antinodes_2 = set()\n",
    "for char in coords:\n",
    "    for i in range(len(coords[char])):\n",
    "        for j in range(i+1,len(coords[char])):\n",
    "            delta_x = coords[char][j][0]-coords[char][i][0]\n",
    "            delta_y = coords[char][j][1]-coords[char][i][1]\n",
    "            divisor = math.gcd(delta_x, delta_y)\n",
    "            delta_x //= divisor\n",
    "            delta_y //= divisor\n",
    "            #print(delta_x, delta_y)\n",
    "            it = 0\n",
    "            antinode_1 = (coords[char][i][0]-it*delta_x, coords[char][i][1]-it*delta_y)\n",
    "            #print(antinode_1)\n",
    "            while antinode_1[0] >=0 and antinode_1[0] <n and antinode_1[1] >=0 and antinode_1[1] < m:\n",
    "                #print(\"arrived\")\n",
    "                antinodes_2.add(antinode_1)\n",
    "                it+=1\n",
    "                antinode_1 = (coords[char][i][0]-it*delta_x, coords[char][i][1]-it*delta_y)\n",
    "            it = 0\n",
    "            antinode_2 = (coords[char][i][0]+it*delta_x, coords[char][i][1]+it*delta_y)\n",
    "            while antinode_2[0] >=0 and antinode_2[0] <n and antinode_2[1] >=0 and antinode_2[1] < m:\n",
    "                antinodes_2.add(antinode_2)\n",
    "                it+=1\n",
    "                antinode_2 = (coords[char][i][0]+it*delta_x, coords[char][i][1]+it*delta_y)\n",
    "len(antinodes_2)"
   ]
  },
  {
   "cell_type": "code",
   "execution_count": null,
   "id": "afaf7a64",
   "metadata": {},
   "outputs": [],
   "source": []
  },
  {
   "cell_type": "code",
   "execution_count": null,
   "id": "b7a60bcc",
   "metadata": {},
   "outputs": [],
   "source": []
  },
  {
   "cell_type": "code",
   "execution_count": null,
   "id": "3d7475f5",
   "metadata": {},
   "outputs": [],
   "source": []
  },
  {
   "cell_type": "code",
   "execution_count": null,
   "id": "220df0b7",
   "metadata": {},
   "outputs": [],
   "source": []
  }
 ],
 "metadata": {
  "kernelspec": {
   "display_name": "Python 3 (ipykernel)",
   "language": "python",
   "name": "python3"
  },
  "language_info": {
   "codemirror_mode": {
    "name": "ipython",
    "version": 3
   },
   "file_extension": ".py",
   "mimetype": "text/x-python",
   "name": "python",
   "nbconvert_exporter": "python",
   "pygments_lexer": "ipython3",
   "version": "3.9.7"
  }
 },
 "nbformat": 4,
 "nbformat_minor": 5
}
