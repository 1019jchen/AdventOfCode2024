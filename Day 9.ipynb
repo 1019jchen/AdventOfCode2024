{
 "cells": [
  {
   "cell_type": "code",
   "execution_count": 1,
   "id": "a3914b8f",
   "metadata": {},
   "outputs": [],
   "source": [
    "import collections\n",
    "import pandas as pd\n",
    "import functools\n",
    "from functools import lru_cache\n",
    "import sympy\n",
    "import numpy as np\n",
    "import copy\n",
    "import itertools\n",
    "import math"
   ]
  },
  {
   "cell_type": "code",
   "execution_count": 63,
   "id": "4a3c57ce",
   "metadata": {},
   "outputs": [],
   "source": [
    "with open('../inputs/input9.txt', 'r') as f:\n",
    "    lines = f.readlines()\n",
    "coords = collections.defaultdict(list)\n",
    "n = len(lines)\n",
    "for i in range(n):\n",
    "    lines[i] = lines[i].strip()\n",
    "mem = lines[0]"
   ]
  },
  {
   "cell_type": "code",
   "execution_count": null,
   "id": "79d17b28",
   "metadata": {},
   "outputs": [],
   "source": []
  },
  {
   "cell_type": "code",
   "execution_count": 18,
   "id": "f41dd127",
   "metadata": {},
   "outputs": [],
   "source": [
    "class node:\n",
    "    def __init__(self, id_num):\n",
    "        self.id_num = id_num"
   ]
  },
  {
   "cell_type": "code",
   "execution_count": 19,
   "id": "4fc15e1a",
   "metadata": {},
   "outputs": [],
   "source": [
    "curr_id = 0\n",
    "memory = []\n",
    "for i in range(len(mem)):\n",
    "    if i%2==0:\n",
    "        n1 = node(curr_id)\n",
    "        for j in range(int(mem[i])):\n",
    "            memory.append(n1)\n",
    "        curr_id += 1\n",
    "    else:\n",
    "        for j in range(int(mem[i])):\n",
    "            memory.append(\".\")"
   ]
  },
  {
   "cell_type": "code",
   "execution_count": 20,
   "id": "afaf7a64",
   "metadata": {},
   "outputs": [],
   "source": [
    "left_pointer = 0\n",
    "right_pointer = len(memory)-1\n",
    "while left_pointer < right_pointer:\n",
    "    while not isinstance(memory[left_pointer],str):\n",
    "        left_pointer += 1\n",
    "    while isinstance(memory[right_pointer], str):\n",
    "        right_pointer -= 1\n",
    "    if left_pointer < right_pointer:\n",
    "        memory[left_pointer], memory[right_pointer]  = memory[right_pointer], memory[left_pointer]"
   ]
  },
  {
   "cell_type": "code",
   "execution_count": 21,
   "id": "b7a60bcc",
   "metadata": {},
   "outputs": [
    {
     "data": {
      "text/plain": [
       "6323641412437"
      ]
     },
     "execution_count": 21,
     "metadata": {},
     "output_type": "execute_result"
    }
   ],
   "source": [
    "ans = 0\n",
    "for i,x in enumerate(memory):\n",
    "    if not isinstance(x, str):\n",
    "        ans += i*x.id_num\n",
    "ans\n",
    "    "
   ]
  },
  {
   "cell_type": "code",
   "execution_count": 28,
   "id": "3d7475f5",
   "metadata": {},
   "outputs": [],
   "source": [
    "class node2:\n",
    "    def __init__(self, node_type, length, id_num):\n",
    "        self.node_type = node_type\n",
    "        self.length = length\n",
    "        self.id_num = id_num"
   ]
  },
  {
   "cell_type": "code",
   "execution_count": 68,
   "id": "220df0b7",
   "metadata": {},
   "outputs": [],
   "source": [
    "curr_id = 0\n",
    "memory2 = []\n",
    "for i in range(len(mem)):\n",
    "    if i%2==0:\n",
    "        n1 = node2(\"block\", int(mem[i]), curr_id)\n",
    "        memory2.append(n1)\n",
    "        curr_id += 1\n",
    "    else:\n",
    "        n2 = node2(\"empty\", int(mem[i]), 0)\n",
    "        memory2.append(n2)"
   ]
  },
  {
   "cell_type": "code",
   "execution_count": 69,
   "id": "128e6227",
   "metadata": {},
   "outputs": [],
   "source": [
    "curr_block = len(memory2)-1\n",
    "while(curr_block>0):\n",
    "    free_pointer = 0\n",
    "    while(memory2[curr_block].node_type != \"block\") and curr_block >0:\n",
    "        curr_block -= 1\n",
    "    while(free_pointer<curr_block):\n",
    "        if free_pointer<curr_block and not (memory2[free_pointer].node_type == \"empty\" and memory2[free_pointer].length >= memory2[curr_block].length):\n",
    "            free_pointer += 1\n",
    "        else:\n",
    "            break\n",
    "    if free_pointer < curr_block and (memory2[free_pointer].node_type == \"empty\" and memory2[free_pointer].length >= memory2[curr_block].length):\n",
    "        new_free_space =  int(memory2[free_pointer].length) - int(memory2[curr_block].length)\n",
    "        temp = node2(\"empty\", new_free_space, 0)\n",
    "        memory2[free_pointer] = temp\n",
    "        copy = memory2[curr_block]\n",
    "        memory2[curr_block] = node2(\"empty\", memory2[curr_block].length, 0)\n",
    "        memory2.insert(free_pointer, copy)\n",
    "    curr_block -= 1"
   ]
  },
  {
   "cell_type": "code",
   "execution_count": 70,
   "id": "18c21cff",
   "metadata": {},
   "outputs": [],
   "source": [
    "memory_model = []\n",
    "for chunk in memory2:\n",
    "    if chunk.node_type == \"block\":\n",
    "        n1 = node(chunk.id_num)\n",
    "        for i in range(chunk.length):\n",
    "            memory_model.append(n1)\n",
    "    else:\n",
    "        for j in range(chunk.length):\n",
    "            memory_model.append(\".\")"
   ]
  },
  {
   "cell_type": "code",
   "execution_count": 71,
   "id": "d7c55e35",
   "metadata": {},
   "outputs": [
    {
     "data": {
      "text/plain": [
       "6351801932670"
      ]
     },
     "execution_count": 71,
     "metadata": {},
     "output_type": "execute_result"
    }
   ],
   "source": [
    "ans2 = 0\n",
    "for i,x in enumerate(memory_model):\n",
    "    if not isinstance(x, str):\n",
    "        ans2 += i*x.id_num\n",
    "ans2"
   ]
  }
 ],
 "metadata": {
  "kernelspec": {
   "display_name": "Python 3 (ipykernel)",
   "language": "python",
   "name": "python3"
  },
  "language_info": {
   "codemirror_mode": {
    "name": "ipython",
    "version": 3
   },
   "file_extension": ".py",
   "mimetype": "text/x-python",
   "name": "python",
   "nbconvert_exporter": "python",
   "pygments_lexer": "ipython3",
   "version": "3.9.7"
  }
 },
 "nbformat": 4,
 "nbformat_minor": 5
}
