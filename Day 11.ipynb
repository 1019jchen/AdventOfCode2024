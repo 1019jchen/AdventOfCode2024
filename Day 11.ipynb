{
 "cells": [
  {
   "cell_type": "code",
   "execution_count": 1,
   "id": "a3914b8f",
   "metadata": {},
   "outputs": [],
   "source": [
    "import collections\n",
    "import pandas as pd\n",
    "import functools\n",
    "from functools import lru_cache\n",
    "import sympy\n",
    "import numpy as np\n",
    "import copy\n",
    "import itertools\n",
    "import math"
   ]
  },
  {
   "cell_type": "code",
   "execution_count": 65,
   "id": "4a3c57ce",
   "metadata": {},
   "outputs": [],
   "source": [
    "with open('../inputs/input11.txt', 'r') as f:\n",
    "    lines = f.readlines()\n",
    "n = len(lines)\n",
    "for i in range(n):\n",
    "    lines[i] = lines[i].strip()\n",
    "    lines[i] = list(map(int,lines[i].split()))\n",
    "rocks = lines[0]\n",
    "rocks_global = rocks.copy()"
   ]
  },
  {
   "cell_type": "code",
   "execution_count": 54,
   "id": "79d17b28",
   "metadata": {},
   "outputs": [
    {
     "name": "stdout",
     "output_type": "stream",
     "text": [
      "184927\n"
     ]
    }
   ],
   "source": [
    "for _ in range(25):\n",
    "    n=0\n",
    "    while n<len(rocks):\n",
    "        if rocks[n]==0:\n",
    "            rocks[n]=1\n",
    "        elif len(str(rocks[n]))%2==0:\n",
    "            right_half = int(str(rocks[n])[(len(str(rocks[n]))//2):])\n",
    "            left_half = int(str(rocks[n])[:(len(str(rocks[n]))//2)])\n",
    "            #print(right_half, left_half)\n",
    "            rocks[n] = right_half\n",
    "            rocks.insert(n, left_half)\n",
    "            n+=1\n",
    "        else:\n",
    "            rocks[n]*=2024\n",
    "        n+=1\n",
    "print(len(rocks))"
   ]
  },
  {
   "cell_type": "code",
   "execution_count": 56,
   "id": "f41dd127",
   "metadata": {},
   "outputs": [
    {
     "ename": "KeyboardInterrupt",
     "evalue": "",
     "output_type": "error",
     "traceback": [
      "\u001b[1;31m---------------------------------------------------------------------------\u001b[0m",
      "\u001b[1;31mKeyboardInterrupt\u001b[0m                         Traceback (most recent call last)",
      "\u001b[1;32m~\\AppData\\Local\\Temp/ipykernel_83288/4092129479.py\u001b[0m in \u001b[0;36m<module>\u001b[1;34m\u001b[0m\n\u001b[0;32m     10\u001b[0m             \u001b[0mrocks\u001b[0m\u001b[1;33m[\u001b[0m\u001b[0mn\u001b[0m\u001b[1;33m]\u001b[0m \u001b[1;33m=\u001b[0m \u001b[0mright_half\u001b[0m\u001b[1;33m\u001b[0m\u001b[1;33m\u001b[0m\u001b[0m\n\u001b[0;32m     11\u001b[0m             \u001b[0mrocks\u001b[0m\u001b[1;33m.\u001b[0m\u001b[0minsert\u001b[0m\u001b[1;33m(\u001b[0m\u001b[0mn\u001b[0m\u001b[1;33m,\u001b[0m \u001b[0mleft_half\u001b[0m\u001b[1;33m)\u001b[0m\u001b[1;33m\u001b[0m\u001b[1;33m\u001b[0m\u001b[0m\n\u001b[1;32m---> 12\u001b[1;33m             \u001b[0mn\u001b[0m\u001b[1;33m+=\u001b[0m\u001b[1;36m1\u001b[0m\u001b[1;33m\u001b[0m\u001b[1;33m\u001b[0m\u001b[0m\n\u001b[0m\u001b[0;32m     13\u001b[0m         \u001b[1;32melse\u001b[0m\u001b[1;33m:\u001b[0m\u001b[1;33m\u001b[0m\u001b[1;33m\u001b[0m\u001b[0m\n\u001b[0;32m     14\u001b[0m             \u001b[0mrocks\u001b[0m\u001b[1;33m[\u001b[0m\u001b[0mn\u001b[0m\u001b[1;33m]\u001b[0m\u001b[1;33m*=\u001b[0m\u001b[1;36m2024\u001b[0m\u001b[1;33m\u001b[0m\u001b[1;33m\u001b[0m\u001b[0m\n",
      "\u001b[1;31mKeyboardInterrupt\u001b[0m: "
     ]
    }
   ],
   "source": [
    "for _ in range(25):\n",
    "    n=0\n",
    "    while n<len(rocks):\n",
    "        if rocks[n]==0:\n",
    "            rocks[n]=1\n",
    "        elif len(str(rocks[n]))%2==0:\n",
    "            right_half = int(str(rocks[n])[(len(str(rocks[n]))//2):])\n",
    "            left_half = int(str(rocks[n])[:(len(str(rocks[n]))//2)])\n",
    "            #print(right_half, left_half)\n",
    "            rocks[n] = right_half\n",
    "            rocks.insert(n, left_half)\n",
    "            n+=1\n",
    "        else:\n",
    "            rocks[n]*=2024\n",
    "        n+=1\n",
    "print(len(rocks))"
   ]
  },
  {
   "cell_type": "code",
   "execution_count": 58,
   "id": "4fc15e1a",
   "metadata": {},
   "outputs": [],
   "source": [
    "@lru_cache(maxsize = None)\n",
    "def split_stones(rock, rounds_remaining):\n",
    "    if rounds_remaining==0:\n",
    "        return 1\n",
    "    n=0\n",
    "    rocks = [rock]\n",
    "    while n<len(rocks):\n",
    "        if rocks[n]==0:\n",
    "            rocks[n]=1\n",
    "        elif len(str(rocks[n]))%2==0:\n",
    "            right_half = int(str(rocks[n])[(len(str(rocks[n]))//2):])\n",
    "            left_half = int(str(rocks[n])[:(len(str(rocks[n]))//2)])\n",
    "            #print(right_half, left_half)\n",
    "            rocks[n] = right_half\n",
    "            rocks.insert(n, left_half)\n",
    "            n+=1\n",
    "        else:\n",
    "            rocks[n]*=2024\n",
    "        n+=1\n",
    "    ans = 0\n",
    "    for r in rocks:\n",
    "        ans += split_stones(r, rounds_remaining-1)\n",
    "    return ans"
   ]
  },
  {
   "cell_type": "code",
   "execution_count": 67,
   "id": "afaf7a64",
   "metadata": {},
   "outputs": [
    {
     "data": {
      "text/plain": [
       "220357186726677"
      ]
     },
     "execution_count": 67,
     "metadata": {},
     "output_type": "execute_result"
    }
   ],
   "source": [
    "num = 0\n",
    "rocks = rocks_global.copy()\n",
    "for rock in rocks:\n",
    "    num += split_stones(rock, 75)\n",
    "num"
   ]
  },
  {
   "cell_type": "code",
   "execution_count": null,
   "id": "3d7475f5",
   "metadata": {},
   "outputs": [],
   "source": []
  },
  {
   "cell_type": "code",
   "execution_count": null,
   "id": "220df0b7",
   "metadata": {},
   "outputs": [],
   "source": []
  },
  {
   "cell_type": "code",
   "execution_count": 69,
   "id": "128e6227",
   "metadata": {},
   "outputs": [],
   "source": []
  },
  {
   "cell_type": "code",
   "execution_count": 70,
   "id": "18c21cff",
   "metadata": {},
   "outputs": [],
   "source": []
  },
  {
   "cell_type": "code",
   "execution_count": null,
   "id": "d7c55e35",
   "metadata": {},
   "outputs": [],
   "source": []
  }
 ],
 "metadata": {
  "kernelspec": {
   "display_name": "Python 3 (ipykernel)",
   "language": "python",
   "name": "python3"
  },
  "language_info": {
   "codemirror_mode": {
    "name": "ipython",
    "version": 3
   },
   "file_extension": ".py",
   "mimetype": "text/x-python",
   "name": "python",
   "nbconvert_exporter": "python",
   "pygments_lexer": "ipython3",
   "version": "3.9.7"
  }
 },
 "nbformat": 4,
 "nbformat_minor": 5
}
