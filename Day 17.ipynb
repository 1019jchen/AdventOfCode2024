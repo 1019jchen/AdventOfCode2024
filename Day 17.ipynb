{
 "cells": [
  {
   "cell_type": "code",
   "execution_count": 1,
   "id": "a3914b8f",
   "metadata": {},
   "outputs": [],
   "source": [
    "import collections\n",
    "import pandas as pd\n",
    "import functools\n",
    "from functools import lru_cache\n",
    "import sympy\n",
    "import numpy as np\n",
    "import copy\n",
    "import itertools\n",
    "import re\n",
    "import math\n",
    "from sympy import *\n",
    "from heapq import heapify, heappush, heappop "
   ]
  },
  {
   "cell_type": "code",
   "execution_count": 66,
   "id": "4a3c57ce",
   "metadata": {},
   "outputs": [
    {
     "name": "stdout",
     "output_type": "stream",
     "text": [
      "64584136 0 0 [2, 4, 1, 2, 7, 5, 1, 3, 4, 3, 5, 5, 0, 3, 3, 0]\n"
     ]
    }
   ],
   "source": [
    "with open('../inputs/input17.txt', 'r') as f:\n",
    "    lines = f.readlines()\n",
    "n = len(lines)\n",
    "rax = 0\n",
    "rbx = 0\n",
    "rcx = 0\n",
    "program = []\n",
    "for i in range(n):\n",
    "    lines[i] = lines[i].strip()\n",
    "rax=int(lines[0].split(\": \")[1])\n",
    "rbx=int(lines[1].split(\": \")[1])\n",
    "rcx=int(lines[2].split(\": \")[1])\n",
    "program = lines[4].replace(\" \",\",\").split(\",\")[1:]\n",
    "for i in range(len(program)):\n",
    "    program[i]=int(program[i])\n",
    "n = len(program)\n",
    "print(rax,rbx,rcx, program)"
   ]
  },
  {
   "cell_type": "code",
   "execution_count": 64,
   "id": "5b0cd65e",
   "metadata": {
    "scrolled": false
   },
   "outputs": [],
   "source": [
    "def operands(operand):\n",
    "    if operand<4:\n",
    "        return operand\n",
    "    if operand==4:\n",
    "        return rax\n",
    "    if operand==5:\n",
    "        return rbx\n",
    "    if operand==6:\n",
    "        return rcx"
   ]
  },
  {
   "cell_type": "code",
   "execution_count": 130,
   "id": "79d17b28",
   "metadata": {
    "scrolled": false
   },
   "outputs": [
    {
     "data": {
      "text/plain": [
       "[3, 0]"
      ]
     },
     "execution_count": 130,
     "metadata": {},
     "output_type": "execute_result"
    }
   ],
   "source": [
    "ip = 0\n",
    "rax = 37221334433268\n",
    "rbx = 0\n",
    "rcx = 0\n",
    "output = []\n",
    "while ip<n-1:\n",
    "    #print(rax)\n",
    "    if program[ip]==0:\n",
    "        rax = rax//(2**operands(program[ip+1]))\n",
    "        ip+=2\n",
    "    elif program[ip]==1:\n",
    "        rbx = rbx^program[ip+1]\n",
    "        ip+=2\n",
    "    elif program[ip]==2:\n",
    "        rbx = operands(program[ip+1])%8\n",
    "        ip+=2\n",
    "    elif program[ip]==3:\n",
    "        if rax!=0:\n",
    "            ip=program[ip+1]\n",
    "        else:\n",
    "            ip+=2\n",
    "    elif program[ip]==4:\n",
    "        rbx=rbx^rcx\n",
    "        ip+=2\n",
    "    elif program[ip]==5:\n",
    "        output.append(operands(program[ip+1])%8)\n",
    "        #print(program[ip+1])\n",
    "        ip+=2\n",
    "    elif program[ip]==6:\n",
    "        rbx = rax//(2**operands(program[ip+1]))\n",
    "        ip += 2\n",
    "    elif program[ip]==7:\n",
    "        rcx = rax//(2**operands(program[ip+1]))\n",
    "        ip+=2\n",
    "output"
   ]
  },
  {
   "cell_type": "code",
   "execution_count": null,
   "id": "4fc15e1a",
   "metadata": {},
   "outputs": [],
   "source": []
  },
  {
   "cell_type": "code",
   "execution_count": null,
   "id": "afaf7a64",
   "metadata": {},
   "outputs": [],
   "source": []
  },
  {
   "cell_type": "code",
   "execution_count": 131,
   "id": "3d7475f5",
   "metadata": {},
   "outputs": [
    {
     "data": {
      "text/plain": [
       "37221334433268"
      ]
     },
     "execution_count": 131,
     "metadata": {},
     "output_type": "execute_result"
    }
   ],
   "source": [
    "a = 0\n",
    "Q = [0,1,2,3,4,5,6,7]\n",
    "for i in range(n-1,-1,-1):\n",
    "    goal_b = program[i]\n",
    "    Q2 = []\n",
    "    while Q:\n",
    "        a = Q.pop()\n",
    "        for j in range(8):\n",
    "            test_a = a*8+j\n",
    "            b = test_a%8\n",
    "            b = b^2\n",
    "            c = test_a//(2**b)\n",
    "            b = b^3\n",
    "            b = b^c\n",
    "            b = b%8\n",
    "            if b==goal_b:\n",
    "                Q2.append(test_a)\n",
    "    Q = Q2.copy()\n",
    "min(Q)\n",
    "        "
   ]
  },
  {
   "cell_type": "code",
   "execution_count": null,
   "id": "220df0b7",
   "metadata": {},
   "outputs": [],
   "source": []
  },
  {
   "cell_type": "code",
   "execution_count": null,
   "id": "128e6227",
   "metadata": {},
   "outputs": [],
   "source": []
  },
  {
   "cell_type": "code",
   "execution_count": null,
   "id": "18c21cff",
   "metadata": {},
   "outputs": [],
   "source": []
  },
  {
   "cell_type": "code",
   "execution_count": null,
   "id": "d7c55e35",
   "metadata": {},
   "outputs": [],
   "source": []
  }
 ],
 "metadata": {
  "kernelspec": {
   "display_name": "Python 3 (ipykernel)",
   "language": "python",
   "name": "python3"
  },
  "language_info": {
   "codemirror_mode": {
    "name": "ipython",
    "version": 3
   },
   "file_extension": ".py",
   "mimetype": "text/x-python",
   "name": "python",
   "nbconvert_exporter": "python",
   "pygments_lexer": "ipython3",
   "version": "3.9.7"
  }
 },
 "nbformat": 4,
 "nbformat_minor": 5
}
