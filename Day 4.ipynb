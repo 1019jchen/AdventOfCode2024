{
 "cells": [
  {
   "cell_type": "code",
   "execution_count": 11,
   "id": "a3914b8f",
   "metadata": {},
   "outputs": [],
   "source": [
    "import collections\n",
    "import pandas as pd\n",
    "import functools\n",
    "from functools import lru_cache\n",
    "import sympy\n",
    "import numpy as np"
   ]
  },
  {
   "cell_type": "code",
   "execution_count": 16,
   "id": "4a3c57ce",
   "metadata": {},
   "outputs": [],
   "source": [
    "with open('../inputs/input4.txt', 'r') as f:\n",
    "    lines = f.readlines()\n",
    "n = len(lines)\n",
    "for i in range(n):\n",
    "    lines[i] = lines[i].strip()\n"
   ]
  },
  {
   "cell_type": "code",
   "execution_count": 3,
   "id": "79d17b28",
   "metadata": {},
   "outputs": [
    {
     "data": {
      "text/plain": [
       "10"
      ]
     },
     "execution_count": 3,
     "metadata": {},
     "output_type": "execute_result"
    }
   ],
   "source": [
    "n"
   ]
  },
  {
   "cell_type": "code",
   "execution_count": 13,
   "id": "6a07bdb3",
   "metadata": {},
   "outputs": [
    {
     "data": {
      "text/plain": [
       "2447"
      ]
     },
     "execution_count": 13,
     "metadata": {},
     "output_type": "execute_result"
    }
   ],
   "source": [
    "directions = [(0,1), (0,-1), (1,1), (1, 0), (-1,1), (-1,0), (-1,-1), (1,-1)]\n",
    "count = 0\n",
    "for direction in directions:\n",
    "    deltax = direction[0]\n",
    "    deltay = direction[1]\n",
    "    for x in range(len(lines)):\n",
    "        for y in range(len(lines[0])):\n",
    "            if x+3*deltax<len(lines) and x+3*deltax>=0 and y+3*deltay<len(lines[0]) and y+3*deltay>=0:\n",
    "                test = lines[x][y]+lines[x+deltax][y+deltay]+lines[x+2*deltax][y+2*deltay]+lines[x+3*deltax][y+3*deltay]\n",
    "                if test=='XMAS':\n",
    "                    count += 1\n",
    "                    #print(x,y)\n",
    "count"
   ]
  },
  {
   "cell_type": "code",
   "execution_count": 15,
   "id": "afaf7a64",
   "metadata": {},
   "outputs": [
    {
     "data": {
      "text/plain": [
       "1868"
      ]
     },
     "execution_count": 15,
     "metadata": {},
     "output_type": "execute_result"
    }
   ],
   "source": [
    "#diags = [(1,1), (-1, -1), (1,-1), (-1,1)]\n",
    "count2 = 0\n",
    "for x in range(1,len(lines)-1):\n",
    "    for y in range(1,len(lines[0])-1):\n",
    "        if lines[x][y]=='A':\n",
    "            if (lines[x+1][y+1] == 'M' and lines[x-1][y-1]=='S') or (lines[x+1][y+1] == 'S' and lines[x-1][y-1]=='M'):\n",
    "                if (lines[x+1][y-1] == 'M' and lines[x-1][y+1]=='S') or (lines[x+1][y-1] == 'S' and lines[x-1][y+1]=='M'):\n",
    "                    count2 += 1\n",
    "count2"
   ]
  },
  {
   "cell_type": "code",
   "execution_count": null,
   "id": "a3ac5515",
   "metadata": {},
   "outputs": [],
   "source": []
  },
  {
   "cell_type": "code",
   "execution_count": null,
   "id": "6bfbae63",
   "metadata": {},
   "outputs": [],
   "source": []
  },
  {
   "cell_type": "code",
   "execution_count": null,
   "id": "3d7475f5",
   "metadata": {},
   "outputs": [],
   "source": []
  },
  {
   "cell_type": "code",
   "execution_count": null,
   "id": "07cdc700",
   "metadata": {},
   "outputs": [],
   "source": []
  },
  {
   "cell_type": "code",
   "execution_count": null,
   "id": "220df0b7",
   "metadata": {},
   "outputs": [],
   "source": []
  }
 ],
 "metadata": {
  "kernelspec": {
   "display_name": "Python 3 (ipykernel)",
   "language": "python",
   "name": "python3"
  },
  "language_info": {
   "codemirror_mode": {
    "name": "ipython",
    "version": 3
   },
   "file_extension": ".py",
   "mimetype": "text/x-python",
   "name": "python",
   "nbconvert_exporter": "python",
   "pygments_lexer": "ipython3",
   "version": "3.9.7"
  }
 },
 "nbformat": 4,
 "nbformat_minor": 5
}
