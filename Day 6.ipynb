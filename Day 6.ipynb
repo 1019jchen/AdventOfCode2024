{
 "cells": [
  {
   "cell_type": "code",
   "execution_count": 197,
   "id": "a3914b8f",
   "metadata": {},
   "outputs": [],
   "source": [
    "import collections\n",
    "import pandas as pd\n",
    "import functools\n",
    "from functools import lru_cache\n",
    "import sympy\n",
    "import numpy as np\n",
    "import copy"
   ]
  },
  {
   "cell_type": "code",
   "execution_count": 231,
   "id": "4a3c57ce",
   "metadata": {},
   "outputs": [],
   "source": [
    "start_x = 0\n",
    "start_y =0\n",
    "with open('../inputs/input6.txt', 'r') as f:\n",
    "    lines = f.readlines()\n",
    "n = len(lines)\n",
    "for i in range(n):\n",
    "    lines[i] = list(lines[i].strip())\n",
    "    for x,j in enumerate(lines[i]):\n",
    "        if j=='^':\n",
    "            global_start_x, global_start_y = i,x\n",
    "            start_x, start_y = i,x\n",
    "new_map = copy.deepcopy(lines)"
   ]
  },
  {
   "cell_type": "code",
   "execution_count": 232,
   "id": "79d17b28",
   "metadata": {},
   "outputs": [],
   "source": [
    "directions = [(-1,0), (0,1), (1,0), (0,-1)]\n",
    "done = False\n",
    "direction = 0\n",
    "while not done:\n",
    "    new_map[start_x][start_y] = '*'\n",
    "    new_x, new_y = start_x+(directions[direction][0]), start_y+directions[direction][1]\n",
    "    if new_x<0 or new_x>=len(lines) or new_y<0 or new_y>=len(lines[0]):\n",
    "        done=True\n",
    "    elif lines[new_x][new_y] == \".\" or lines[new_x][new_y] == '*' or lines[new_x][new_y] == \"^\":\n",
    "        start_x, start_y = new_x, new_y\n",
    "    else:\n",
    "        direction = (direction+1)%4\n"
   ]
  },
  {
   "cell_type": "code",
   "execution_count": 233,
   "id": "f41dd127",
   "metadata": {},
   "outputs": [],
   "source": [
    "def attempt(start_x, start_y, obs_x, obs_y):\n",
    "    direction = 0\n",
    "    map_copy = copy.deepcopy(lines)\n",
    "    map_copy[obs_x][obs_y] = '#'\n",
    "    visited = set()\n",
    "    visited.add((start_x,start_y,direction))\n",
    "    #print(start_x,start_y, direction)\n",
    "    done = False\n",
    "    while not done:\n",
    "        new_x, new_y = start_x+(directions[direction][0]), start_y+directions[direction][1]\n",
    "        #print(new_x, new_y, direction)\n",
    "        if new_x<0 or new_x>=len(lines) or new_y<0 or new_y>=len(lines[0]):\n",
    "            done=True\n",
    "        elif map_copy[new_x][new_y] == \".\" or map_copy[new_x][new_y] == '*'or map_copy[new_x][new_y] == \"^\":\n",
    "            start_x, start_y = new_x, new_y\n",
    "            #print(start_x,start_y)\n",
    "            if (start_x, start_y, direction) in visited:\n",
    "                return False\n",
    "            visited.add((start_x,start_y, direction))\n",
    "        else:\n",
    "            direction = (direction+1)%4\n",
    "    return True\n",
    "    "
   ]
  },
  {
   "cell_type": "code",
   "execution_count": 235,
   "id": "4fc15e1a",
   "metadata": {},
   "outputs": [
    {
     "data": {
      "text/plain": [
       "1919"
      ]
     },
     "execution_count": 235,
     "metadata": {},
     "output_type": "execute_result"
    }
   ],
   "source": [
    "ans2 = 0\n",
    "for i in range(len(lines)):\n",
    "    for j in range(len(lines[0])):\n",
    "        if not attempt(global_start_x, global_start_y,i,j):\n",
    "            ans2 += 1\n",
    "ans2"
   ]
  },
  {
   "cell_type": "code",
   "execution_count": 234,
   "id": "afaf7a64",
   "metadata": {},
   "outputs": [
    {
     "data": {
      "text/plain": [
       "5080"
      ]
     },
     "execution_count": 234,
     "metadata": {},
     "output_type": "execute_result"
    }
   ],
   "source": [
    "ans = 0\n",
    "for i in range(len(new_map)):\n",
    "    for j in range(len(new_map[0])):\n",
    "        if new_map[i][j]=='*':\n",
    "            ans += 1\n",
    "ans"
   ]
  },
  {
   "cell_type": "code",
   "execution_count": 143,
   "id": "b7a60bcc",
   "metadata": {},
   "outputs": [
    {
     "name": "stdout",
     "output_type": "stream",
     "text": [
      "701\n"
     ]
    }
   ],
   "source": [
    "print(len(possible_new_obstacles))"
   ]
  },
  {
   "cell_type": "code",
   "execution_count": 215,
   "id": "3d7475f5",
   "metadata": {},
   "outputs": [
    {
     "data": {
      "text/plain": [
       "[['.', '.', '.', '.', '#', '*', '.', '.', '.', '.'],\n",
       " ['.', '.', '.', '.', '*', '*', '*', '*', '*', '#'],\n",
       " ['.', '.', '.', '.', '*', '*', '.', '.', '*', '.'],\n",
       " ['.', '.', '#', '.', '*', '*', '.', '.', '*', '.'],\n",
       " ['.', '.', '.', '.', '*', '*', '.', '#', '*', '.'],\n",
       " ['.', '.', '.', '.', '*', '*', '.', '.', '*', '.'],\n",
       " ['.', '#', '.', '.', '*', '*', '*', '*', '*', '.'],\n",
       " ['.', '.', '.', '.', '.', '.', '.', '.', '#', '.'],\n",
       " ['#', '.', '.', '.', '.', '.', '.', '.', '.', '.'],\n",
       " ['.', '.', '.', '.', '.', '.', '#', '.', '.', '.']]"
      ]
     },
     "execution_count": 215,
     "metadata": {},
     "output_type": "execute_result"
    }
   ],
   "source": [
    "new_map"
   ]
  },
  {
   "cell_type": "code",
   "execution_count": null,
   "id": "220df0b7",
   "metadata": {},
   "outputs": [],
   "source": []
  }
 ],
 "metadata": {
  "kernelspec": {
   "display_name": "Python 3 (ipykernel)",
   "language": "python",
   "name": "python3"
  },
  "language_info": {
   "codemirror_mode": {
    "name": "ipython",
    "version": 3
   },
   "file_extension": ".py",
   "mimetype": "text/x-python",
   "name": "python",
   "nbconvert_exporter": "python",
   "pygments_lexer": "ipython3",
   "version": "3.9.7"
  }
 },
 "nbformat": 4,
 "nbformat_minor": 5
}
